{
  "nbformat": 4,
  "nbformat_minor": 0,
  "metadata": {
    "colab": {
      "name": "airbnb-EDA-example.ipynb",
      "provenance": [],
      "authorship_tag": "ABX9TyMZm6HGaQ67UFJej6Q+kLT6",
      "include_colab_link": true
    },
    "kernelspec": {
      "name": "python3",
      "display_name": "Python 3"
    },
    "language_info": {
      "name": "python"
    }
  },
  "cells": [
    {
      "cell_type": "markdown",
      "metadata": {
        "id": "view-in-github",
        "colab_type": "text"
      },
      "source": [
        "<a href=\"https://colab.research.google.com/github/alicianingchen/airbnbNY/blob/main/airbnb_EDA_example.ipynb\" target=\"_parent\"><img src=\"https://colab.research.google.com/assets/colab-badge.svg\" alt=\"Open In Colab\"/></a>"
      ]
    },
    {
      "cell_type": "code",
      "metadata": {
        "colab": {
          "base_uri": "https://localhost:8080/",
          "height": 476
        },
        "id": "bEhN1ErCAcb6",
        "outputId": "8106f801-6a0b-411a-f5d8-810345be04ae"
      },
      "source": [
        "from sklearn import preprocessing, metrics\n",
        "from sklearn.linear_model import LinearRegression\n",
        "from sklearn.ensemble import RandomForestRegressor\n",
        "from sklearn.model_selection import train_test_split\n",
        "import numpy as np\n",
        "import pandas as pd\n",
        "import seaborn as sns\n",
        "import matplotlib.pyplot as plt\n",
        "sns.set(style=\"ticks\", color_codes=True)\n",
        "import statsmodels.api as sm\n",
        "from scipy import stats\n",
        "\n",
        "\n",
        "url = 'https://github.com/alicianingchen/airbnbNY/blob/main/AB_NYC_2019.csv?raw=true'\n",
        "dataset_raw = pd.read_csv(url)\n",
        "print(dataset_raw.shape)\n",
        "dataset_raw.head()"
      ],
      "execution_count": 1,
      "outputs": [
        {
          "output_type": "stream",
          "text": [
            "/usr/local/lib/python3.7/dist-packages/statsmodels/tools/_testing.py:19: FutureWarning: pandas.util.testing is deprecated. Use the functions in the public API at pandas.testing instead.\n",
            "  import pandas.util.testing as tm\n"
          ],
          "name": "stderr"
        },
        {
          "output_type": "stream",
          "text": [
            "(48895, 16)\n"
          ],
          "name": "stdout"
        },
        {
          "output_type": "execute_result",
          "data": {
            "text/html": [
              "<div>\n",
              "<style scoped>\n",
              "    .dataframe tbody tr th:only-of-type {\n",
              "        vertical-align: middle;\n",
              "    }\n",
              "\n",
              "    .dataframe tbody tr th {\n",
              "        vertical-align: top;\n",
              "    }\n",
              "\n",
              "    .dataframe thead th {\n",
              "        text-align: right;\n",
              "    }\n",
              "</style>\n",
              "<table border=\"1\" class=\"dataframe\">\n",
              "  <thead>\n",
              "    <tr style=\"text-align: right;\">\n",
              "      <th></th>\n",
              "      <th>id</th>\n",
              "      <th>name</th>\n",
              "      <th>host_id</th>\n",
              "      <th>host_name</th>\n",
              "      <th>neighbourhood_group</th>\n",
              "      <th>neighbourhood</th>\n",
              "      <th>latitude</th>\n",
              "      <th>longitude</th>\n",
              "      <th>room_type</th>\n",
              "      <th>price</th>\n",
              "      <th>minimum_nights</th>\n",
              "      <th>number_of_reviews</th>\n",
              "      <th>last_review</th>\n",
              "      <th>reviews_per_month</th>\n",
              "      <th>calculated_host_listings_count</th>\n",
              "      <th>availability_365</th>\n",
              "    </tr>\n",
              "  </thead>\n",
              "  <tbody>\n",
              "    <tr>\n",
              "      <th>0</th>\n",
              "      <td>2539</td>\n",
              "      <td>Clean &amp; quiet apt home by the park</td>\n",
              "      <td>2787</td>\n",
              "      <td>John</td>\n",
              "      <td>Brooklyn</td>\n",
              "      <td>Kensington</td>\n",
              "      <td>40.64749</td>\n",
              "      <td>-73.97237</td>\n",
              "      <td>Private room</td>\n",
              "      <td>149</td>\n",
              "      <td>1</td>\n",
              "      <td>9</td>\n",
              "      <td>2018-10-19</td>\n",
              "      <td>0.21</td>\n",
              "      <td>6</td>\n",
              "      <td>365</td>\n",
              "    </tr>\n",
              "    <tr>\n",
              "      <th>1</th>\n",
              "      <td>2595</td>\n",
              "      <td>Skylit Midtown Castle</td>\n",
              "      <td>2845</td>\n",
              "      <td>Jennifer</td>\n",
              "      <td>Manhattan</td>\n",
              "      <td>Midtown</td>\n",
              "      <td>40.75362</td>\n",
              "      <td>-73.98377</td>\n",
              "      <td>Entire home/apt</td>\n",
              "      <td>225</td>\n",
              "      <td>1</td>\n",
              "      <td>45</td>\n",
              "      <td>2019-05-21</td>\n",
              "      <td>0.38</td>\n",
              "      <td>2</td>\n",
              "      <td>355</td>\n",
              "    </tr>\n",
              "    <tr>\n",
              "      <th>2</th>\n",
              "      <td>3647</td>\n",
              "      <td>THE VILLAGE OF HARLEM....NEW YORK !</td>\n",
              "      <td>4632</td>\n",
              "      <td>Elisabeth</td>\n",
              "      <td>Manhattan</td>\n",
              "      <td>Harlem</td>\n",
              "      <td>40.80902</td>\n",
              "      <td>-73.94190</td>\n",
              "      <td>Private room</td>\n",
              "      <td>150</td>\n",
              "      <td>3</td>\n",
              "      <td>0</td>\n",
              "      <td>NaN</td>\n",
              "      <td>NaN</td>\n",
              "      <td>1</td>\n",
              "      <td>365</td>\n",
              "    </tr>\n",
              "    <tr>\n",
              "      <th>3</th>\n",
              "      <td>3831</td>\n",
              "      <td>Cozy Entire Floor of Brownstone</td>\n",
              "      <td>4869</td>\n",
              "      <td>LisaRoxanne</td>\n",
              "      <td>Brooklyn</td>\n",
              "      <td>Clinton Hill</td>\n",
              "      <td>40.68514</td>\n",
              "      <td>-73.95976</td>\n",
              "      <td>Entire home/apt</td>\n",
              "      <td>89</td>\n",
              "      <td>1</td>\n",
              "      <td>270</td>\n",
              "      <td>2019-07-05</td>\n",
              "      <td>4.64</td>\n",
              "      <td>1</td>\n",
              "      <td>194</td>\n",
              "    </tr>\n",
              "    <tr>\n",
              "      <th>4</th>\n",
              "      <td>5022</td>\n",
              "      <td>Entire Apt: Spacious Studio/Loft by central park</td>\n",
              "      <td>7192</td>\n",
              "      <td>Laura</td>\n",
              "      <td>Manhattan</td>\n",
              "      <td>East Harlem</td>\n",
              "      <td>40.79851</td>\n",
              "      <td>-73.94399</td>\n",
              "      <td>Entire home/apt</td>\n",
              "      <td>80</td>\n",
              "      <td>10</td>\n",
              "      <td>9</td>\n",
              "      <td>2018-11-19</td>\n",
              "      <td>0.10</td>\n",
              "      <td>1</td>\n",
              "      <td>0</td>\n",
              "    </tr>\n",
              "  </tbody>\n",
              "</table>\n",
              "</div>"
            ],
            "text/plain": [
              "     id  ... availability_365\n",
              "0  2539  ...              365\n",
              "1  2595  ...              355\n",
              "2  3647  ...              365\n",
              "3  3831  ...              194\n",
              "4  5022  ...                0\n",
              "\n",
              "[5 rows x 16 columns]"
            ]
          },
          "metadata": {
            "tags": []
          },
          "execution_count": 1
        }
      ]
    },
    {
      "cell_type": "code",
      "metadata": {
        "colab": {
          "base_uri": "https://localhost:8080/"
        },
        "id": "uKgzcx2QAp1A",
        "outputId": "a5e2a6d3-0390-429f-8556-e5e4e87abee0"
      },
      "source": [
        "# Find out how many null value in the data\n",
        "dataset = dataset_raw.copy()\n",
        "print(dataset.columns)\n",
        "print(dataset.isnull().sum())"
      ],
      "execution_count": 2,
      "outputs": [
        {
          "output_type": "stream",
          "text": [
            "Index(['id', 'name', 'host_id', 'host_name', 'neighbourhood_group',\n",
            "       'neighbourhood', 'latitude', 'longitude', 'room_type', 'price',\n",
            "       'minimum_nights', 'number_of_reviews', 'last_review',\n",
            "       'reviews_per_month', 'calculated_host_listings_count',\n",
            "       'availability_365'],\n",
            "      dtype='object')\n",
            "id                                    0\n",
            "name                                 16\n",
            "host_id                               0\n",
            "host_name                            21\n",
            "neighbourhood_group                   0\n",
            "neighbourhood                         0\n",
            "latitude                              0\n",
            "longitude                             0\n",
            "room_type                             0\n",
            "price                                 0\n",
            "minimum_nights                        0\n",
            "number_of_reviews                     0\n",
            "last_review                       10052\n",
            "reviews_per_month                 10052\n",
            "calculated_host_listings_count        0\n",
            "availability_365                      0\n",
            "dtype: int64\n"
          ],
          "name": "stdout"
        }
      ]
    },
    {
      "cell_type": "code",
      "metadata": {
        "id": "js_7CfLMA4uZ",
        "colab": {
          "base_uri": "https://localhost:8080/"
        },
        "outputId": "2eb2d66b-4ca0-4892-8a72-2e4e980ccf92"
      },
      "source": [
        "# Fill na value \n",
        "dataset.fillna({'reviews_per_month':0}, inplace=True)\n",
        "dataset.fillna({'name':\"NoName\"}, inplace=True)\n",
        "dataset.fillna({'host_name':\"NoName\"}, inplace=True)\n",
        "dataset.fillna({'last_review':\"NotReviewed\"}, inplace=True)\n",
        "dataset.isnull().sum()"
      ],
      "execution_count": 3,
      "outputs": [
        {
          "output_type": "execute_result",
          "data": {
            "text/plain": [
              "id                                0\n",
              "name                              0\n",
              "host_id                           0\n",
              "host_name                         0\n",
              "neighbourhood_group               0\n",
              "neighbourhood                     0\n",
              "latitude                          0\n",
              "longitude                         0\n",
              "room_type                         0\n",
              "price                             0\n",
              "minimum_nights                    0\n",
              "number_of_reviews                 0\n",
              "last_review                       0\n",
              "reviews_per_month                 0\n",
              "calculated_host_listings_count    0\n",
              "availability_365                  0\n",
              "dtype: int64"
            ]
          },
          "metadata": {
            "tags": []
          },
          "execution_count": 3
        }
      ]
    },
    {
      "cell_type": "code",
      "metadata": {
        "colab": {
          "base_uri": "https://localhost:8080/"
        },
        "id": "cE9ShS7y38l7",
        "outputId": "16a05ebd-3cc5-4762-883c-95219c8b1e8d"
      },
      "source": [
        "# Observe price stats\n",
        "dataset[\"price\"].describe()\n",
        "# We see that the average price is 152. Price varies between 0 to 10000, 75% smaller than 175"
      ],
      "execution_count": 4,
      "outputs": [
        {
          "output_type": "execute_result",
          "data": {
            "text/plain": [
              "count    48895.000000\n",
              "mean       152.720687\n",
              "std        240.154170\n",
              "min          0.000000\n",
              "25%         69.000000\n",
              "50%        106.000000\n",
              "75%        175.000000\n",
              "max      10000.000000\n",
              "Name: price, dtype: float64"
            ]
          },
          "metadata": {
            "tags": []
          },
          "execution_count": 4
        }
      ]
    },
    {
      "cell_type": "code",
      "metadata": {
        "colab": {
          "base_uri": "https://localhost:8080/",
          "height": 268
        },
        "id": "E-8yvxH07wGr",
        "outputId": "fca8e800-2aaa-4bbd-8a10-5463e1690055"
      },
      "source": [
        "# See the distribution of price\n",
        "hist_price=dataset[\"price\"].hist()\n",
        "# Observe that most listings have price less than $1000"
      ],
      "execution_count": 5,
      "outputs": [
        {
          "output_type": "display_data",
          "data": {
            "image/png": "[encoded data removed]",
            "text/plain": [
              "<Figure size 432x288 with 1 Axes>"
            ]
          },
          "metadata": {
            "tags": [],
            "needs_background": "light"
          }
        }
      ]
    },
    {
      "cell_type": "code",
      "metadata": {
        "colab": {
          "base_uri": "https://localhost:8080/",
          "height": 268
        },
        "id": "a2REcj2673iV",
        "outputId": "286d2606-5db8-40eb-80d6-8a185c00d5c2"
      },
      "source": [
        "# Plot histogram for prices less than $1000\n",
        "hist_price1=dataset[\"price\"][dataset[\"price\"]<1000].hist()\n",
        "# This gives a clearer picture!"
      ],
      "execution_count": 6,
      "outputs": [
        {
          "output_type": "display_data",
          "data": {
            "image/png": "[encoded data removed]",
            "text/plain": [
              "<Figure size 432x288 with 1 Axes>"
            ]
          },
          "metadata": {
            "tags": [],
            "needs_background": "light"
          }
        }
      ]
    },
    {
      "cell_type": "code",
      "metadata": {
        "colab": {
          "base_uri": "https://localhost:8080/",
          "height": 268
        },
        "id": "6VI-2YYc7-2J",
        "outputId": "0291f0a1-c964-4975-96fb-b7fe6ccaf2f3"
      },
      "source": [
        "dataset=dataset[dataset[\"price\"]<1000]\n",
        "# We can see a more Gaussian distribution below\n",
        "hist_price2=dataset[\"price\"][dataset[\"price\"]<250].hist()\n",
        "# We use 250 as threshold price \n",
        "dataset=dataset[dataset[\"price\"]<250]"
      ],
      "execution_count": 7,
      "outputs": [
        {
          "output_type": "display_data",
          "data": {
            "image/png": "[encoded data removed]",
            "text/plain": [
              "<Figure size 432x288 with 1 Axes>"
            ]
          },
          "metadata": {
            "tags": [],
            "needs_background": "light"
          }
        }
      ]
    },
    {
      "cell_type": "code",
      "metadata": {
        "colab": {
          "base_uri": "https://localhost:8080/"
        },
        "id": "fWeMFyZc8IIg",
        "outputId": "65424e1b-7fd0-4d91-ab6f-8bbe0070fd16"
      },
      "source": [
        "# Looking at the price column again\n",
        "dataset[\"price\"].describe()"
      ],
      "execution_count": 8,
      "outputs": [
        {
          "output_type": "execute_result",
          "data": {
            "text/plain": [
              "count    42669.000000\n",
              "mean       107.897748\n",
              "std         53.803457\n",
              "min          0.000000\n",
              "25%         65.000000\n",
              "50%         99.000000\n",
              "75%        150.000000\n",
              "max        249.000000\n",
              "Name: price, dtype: float64"
            ]
          },
          "metadata": {
            "tags": []
          },
          "execution_count": 8
        }
      ]
    },
    {
      "cell_type": "code",
      "metadata": {
        "colab": {
          "base_uri": "https://localhost:8080/"
        },
        "id": "VuL5dbDM8eix",
        "outputId": "b60dbf80-4141-4d51-b8c7-a1d438e94cf2"
      },
      "source": [
        "dataset = dataset.drop(columns = [\"id\",\"host_name\"])\n",
        "# Try to find out more relation for name and price\n",
        "dataset[\"name_length\"]=dataset['name'].map(str).apply(len)\n",
        "# Max and Min name length\n",
        "print(dataset[\"name_length\"].max())\n",
        "print(dataset[\"name_length\"].min())\n",
        "# See the corelaton of name_length and price\n",
        "print(\"corr:\",dataset[\"name_length\"].corr(dataset[\"price\"]))\n",
        "# Doesnot seem a lot of inpact here"
      ],
      "execution_count": 9,
      "outputs": [
        {
          "output_type": "stream",
          "text": [
            "179\n",
            "1\n",
            "corr: 0.05629573141120946\n"
          ],
          "name": "stdout"
        }
      ]
    },
    {
      "cell_type": "code",
      "metadata": {
        "colab": {
          "base_uri": "https://localhost:8080/",
          "height": 341
        },
        "id": "H3FUZH70AMw4",
        "outputId": "720f8756-cb17-42be-9c93-fc43353db96e"
      },
      "source": [
        "# Let's figure if name length has an impact on how much it is written a review. \n",
        "dataset.plot.scatter(x=\"name_length\", y =\"number_of_reviews\" )\n",
        "# From the plot, there's not significant relationship."
      ],
      "execution_count": 10,
      "outputs": [
        {
          "output_type": "stream",
          "text": [
            "*c* argument looks like a single numeric RGB or RGBA sequence, which should be avoided as value-mapping will have precedence in case its length matches with *x* & *y*.  Please use the *color* keyword-argument or provide a 2-D array with a single row if you intend to specify the same RGB or RGBA value for all points.\n"
          ],
          "name": "stderr"
        },
        {
          "output_type": "execute_result",
          "data": {
            "text/plain": [
              "<matplotlib.axes._subplots.AxesSubplot at 0x7f387818f550>"
            ]
          },
          "metadata": {
            "tags": []
          },
          "execution_count": 10
        },
        {
          "output_type": "display_data",
          "data": {
            "image/png": "[encoded data removed]",
            "text/plain": [
              "<Figure size 432x288 with 1 Axes>"
            ]
          },
          "metadata": {
            "tags": [],
            "needs_background": "light"
          }
        }
      ]
    },
    {
      "cell_type": "code",
      "metadata": {
        "colab": {
          "base_uri": "https://localhost:8080/",
          "height": 428
        },
        "id": "0TRJGQHE8qOx",
        "outputId": "4bf02591-bee0-46c4-f6ce-d67087a65720"
      },
      "source": [
        "# See minimun nights distribution\n",
        "dataset[\"minimum_nights\"].hist()\n",
        "print(dataset[\"minimum_nights\"].describe())\n",
        "# 75%  data is smaler than 5, we dont need 1250 this large distribution, we'll get a threshold  "
      ],
      "execution_count": 11,
      "outputs": [
        {
          "output_type": "stream",
          "text": [
            "count    42669.000000\n",
            "mean         6.856359\n",
            "std         19.981924\n",
            "min          1.000000\n",
            "25%          1.000000\n",
            "50%          2.000000\n",
            "75%          5.000000\n",
            "max       1250.000000\n",
            "Name: minimum_nights, dtype: float64\n"
          ],
          "name": "stdout"
        },
        {
          "output_type": "display_data",
          "data": {
            "image/png": "[encoded data removed]",
            "text/plain": [
              "<Figure size 432x288 with 1 Axes>"
            ]
          },
          "metadata": {
            "tags": [],
            "needs_background": "light"
          }
        }
      ]
    },
    {
      "cell_type": "code",
      "metadata": {
        "colab": {
          "base_uri": "https://localhost:8080/",
          "height": 286
        },
        "id": "9xrxXxs-9MEh",
        "outputId": "14529b32-0b35-4c5f-db36-17fef03ed9c3"
      },
      "source": [
        "dataset.loc[(dataset.minimum_nights >30),\"minimum_nights\"]=30\n",
        "dataset[\"minimum_nights\"].hist()\n",
        "dataset[\"minimum_nights\"].corr(dataset[\"price\"])"
      ],
      "execution_count": 12,
      "outputs": [
        {
          "output_type": "execute_result",
          "data": {
            "text/plain": [
              "0.059554361719124344"
            ]
          },
          "metadata": {
            "tags": []
          },
          "execution_count": 12
        },
        {
          "output_type": "display_data",
          "data": {
            "image/png": "[encoded data removed]",
            "text/plain": [
              "<Figure size 432x288 with 1 Axes>"
            ]
          },
          "metadata": {
            "tags": [],
            "needs_background": "light"
          }
        }
      ]
    },
    {
      "cell_type": "code",
      "metadata": {
        "colab": {
          "base_uri": "https://localhost:8080/"
        },
        "id": "rbZhPfK68yQW",
        "outputId": "f882b546-b0ff-4340-8617-4029bcf0843a"
      },
      "source": [
        "dataset.drop([\"host_id\",\"name\",'last_review',\"latitude\",'longitude'], axis=1, inplace=True)\n",
        "dataset.dtypes"
      ],
      "execution_count": 13,
      "outputs": [
        {
          "output_type": "execute_result",
          "data": {
            "text/plain": [
              "neighbourhood_group                object\n",
              "neighbourhood                      object\n",
              "room_type                          object\n",
              "price                               int64\n",
              "minimum_nights                      int64\n",
              "number_of_reviews                   int64\n",
              "reviews_per_month                 float64\n",
              "calculated_host_listings_count      int64\n",
              "availability_365                    int64\n",
              "name_length                         int64\n",
              "dtype: object"
            ]
          },
          "metadata": {
            "tags": []
          },
          "execution_count": 13
        }
      ]
    },
    {
      "cell_type": "code",
      "metadata": {
        "colab": {
          "base_uri": "https://localhost:8080/",
          "height": 303
        },
        "id": "aoPmykGLD_FB",
        "outputId": "e51d83b8-1d02-4862-ba7b-1c302359f4f9"
      },
      "source": [
        "sns.violinplot( x=dataset[\"neighbourhood_group\"], y=dataset[\"price\"])\n",
        "# From violin plot it's quite obvious that manhattan is most expensive and almost evenly distributed."
      ],
      "execution_count": 14,
      "outputs": [
        {
          "output_type": "execute_result",
          "data": {
            "text/plain": [
              "<matplotlib.axes._subplots.AxesSubplot at 0x7f3879a51550>"
            ]
          },
          "metadata": {
            "tags": []
          },
          "execution_count": 14
        },
        {
          "output_type": "display_data",
          "data": {
            "image/png": "[encoded data removed]",
            "text/plain": [
              "<Figure size 432x288 with 1 Axes>"
            ]
          },
          "metadata": {
            "tags": [],
            "needs_background": "light"
          }
        }
      ]
    },
    {
      "cell_type": "code",
      "metadata": {
        "colab": {
          "base_uri": "https://localhost:8080/",
          "height": 563
        },
        "id": "Yb0SwBLwBPDY",
        "outputId": "b555a87e-7a25-4934-9d8c-df4a96ce0fac"
      },
      "source": [
        "# Plot correlation matrix here to see impact of each feature\n",
        "corr = dataset.corr(method='pearson')\n",
        "plt.figure(figsize=(16,9))\n",
        "sns.heatmap(corr, annot=True)\n",
        "dataset.columns\n",
        "# No obvious feature corelation appears"
      ],
      "execution_count": 15,
      "outputs": [
        {
          "output_type": "execute_result",
          "data": {
            "text/plain": [
              "Index(['neighbourhood_group', 'neighbourhood', 'room_type', 'price',\n",
              "       'minimum_nights', 'number_of_reviews', 'reviews_per_month',\n",
              "       'calculated_host_listings_count', 'availability_365', 'name_length'],\n",
              "      dtype='object')"
            ]
          },
          "metadata": {
            "tags": []
          },
          "execution_count": 15
        },
        {
          "output_type": "display_data",
          "data": {
            "image/png": "[encoded data removed]",
            "text/plain": [
              "<Figure size 1152x648 with 2 Axes>"
            ]
          },
          "metadata": {
            "tags": [],
            "needs_background": "light"
          }
        }
      ]
    },
    {
      "cell_type": "code",
      "metadata": {
        "colab": {
          "base_uri": "https://localhost:8080/"
        },
        "id": "_vQpilJb9J5z",
        "outputId": "a752814c-84a7-4732-e188-8e4cab90a49b"
      },
      "source": [
        "# Categorical encoding neighbourhood_group, room_type column\n",
        "dataset_onehot1 = pd.get_dummies(dataset, columns=['neighbourhood_group',\"room_type\"], prefix = ['ng',\"rt\"],drop_first=True)\n",
        "dataset_onehot1.drop([\"neighbourhood\"], axis=1, inplace=True)\n",
        "dataset_onehot1.shape"
      ],
      "execution_count": 16,
      "outputs": [
        {
          "output_type": "execute_result",
          "data": {
            "text/plain": [
              "(42669, 13)"
            ]
          },
          "metadata": {
            "tags": []
          },
          "execution_count": 16
        }
      ]
    },
    {
      "cell_type": "code",
      "metadata": {
        "id": "-qvz4GcW9O4o"
      },
      "source": [
        "# Train, test dataset splitting\n",
        "X1= dataset_onehot1.loc[:, dataset_onehot1.columns != 'price']\n",
        "Y1 = dataset_onehot1[\"price\"]\n",
        "x_train1, x_test1, y_train1, y_test1 = train_test_split(X1, Y1, test_size=0.20, random_state=42)"
      ],
      "execution_count": 17,
      "outputs": []
    },
    {
      "cell_type": "code",
      "metadata": {
        "colab": {
          "base_uri": "https://localhost:8080/"
        },
        "id": "kV1pstRk9VXj",
        "outputId": "2f4cb58f-5ea2-4b42-d4b0-284cee3b25db"
      },
      "source": [
        "# Fitting Linear regression\n",
        "reg1 = LinearRegression().fit(x_train1, y_train1)\n",
        "# R squared value\n",
        "reg1.score(x_train1, y_train1)"
      ],
      "execution_count": 18,
      "outputs": [
        {
          "output_type": "execute_result",
          "data": {
            "text/plain": [
              "0.5033306680968379"
            ]
          },
          "metadata": {
            "tags": []
          },
          "execution_count": 18
        }
      ]
    },
    {
      "cell_type": "code",
      "metadata": {
        "colab": {
          "base_uri": "https://localhost:8080/",
          "height": 430
        },
        "id": "soVaDh12BGkP",
        "outputId": "17b0492c-0ea7-4b4a-ef28-bd06b40a584b"
      },
      "source": [
        "# See Coefficient of every feature to decide which feature can be dropped\n",
        "Coeff1 = pd.DataFrame(columns=[\"Variable\",\"Coefficient\"])\n",
        "Coeff1[\"Variable\"]=x_train1.columns\n",
        "Coeff1[\"Coefficient\"]=reg1.coef_\n",
        "Coeff1.sort_values(\"Coefficient\")"
      ],
      "execution_count": 19,
      "outputs": [
        {
          "output_type": "execute_result",
          "data": {
            "text/html": [
              "<div>\n",
              "<style scoped>\n",
              "    .dataframe tbody tr th:only-of-type {\n",
              "        vertical-align: middle;\n",
              "    }\n",
              "\n",
              "    .dataframe tbody tr th {\n",
              "        vertical-align: top;\n",
              "    }\n",
              "\n",
              "    .dataframe thead th {\n",
              "        text-align: right;\n",
              "    }\n",
              "</style>\n",
              "<table border=\"1\" class=\"dataframe\">\n",
              "  <thead>\n",
              "    <tr style=\"text-align: right;\">\n",
              "      <th></th>\n",
              "      <th>Variable</th>\n",
              "      <th>Coefficient</th>\n",
              "    </tr>\n",
              "  </thead>\n",
              "  <tbody>\n",
              "    <tr>\n",
              "      <th>11</th>\n",
              "      <td>rt_Shared room</td>\n",
              "      <td>-89.090227</td>\n",
              "    </tr>\n",
              "    <tr>\n",
              "      <th>10</th>\n",
              "      <td>rt_Private room</td>\n",
              "      <td>-65.644241</td>\n",
              "    </tr>\n",
              "    <tr>\n",
              "      <th>2</th>\n",
              "      <td>reviews_per_month</td>\n",
              "      <td>-1.616417</td>\n",
              "    </tr>\n",
              "    <tr>\n",
              "      <th>0</th>\n",
              "      <td>minimum_nights</td>\n",
              "      <td>-0.809520</td>\n",
              "    </tr>\n",
              "    <tr>\n",
              "      <th>1</th>\n",
              "      <td>number_of_reviews</td>\n",
              "      <td>-0.009088</td>\n",
              "    </tr>\n",
              "    <tr>\n",
              "      <th>4</th>\n",
              "      <td>availability_365</td>\n",
              "      <td>0.046786</td>\n",
              "    </tr>\n",
              "    <tr>\n",
              "      <th>3</th>\n",
              "      <td>calculated_host_listings_count</td>\n",
              "      <td>0.142435</td>\n",
              "    </tr>\n",
              "    <tr>\n",
              "      <th>5</th>\n",
              "      <td>name_length</td>\n",
              "      <td>0.198697</td>\n",
              "    </tr>\n",
              "    <tr>\n",
              "      <th>9</th>\n",
              "      <td>ng_Staten Island</td>\n",
              "      <td>0.205908</td>\n",
              "    </tr>\n",
              "    <tr>\n",
              "      <th>8</th>\n",
              "      <td>ng_Queens</td>\n",
              "      <td>9.690562</td>\n",
              "    </tr>\n",
              "    <tr>\n",
              "      <th>6</th>\n",
              "      <td>ng_Brooklyn</td>\n",
              "      <td>19.804003</td>\n",
              "    </tr>\n",
              "    <tr>\n",
              "      <th>7</th>\n",
              "      <td>ng_Manhattan</td>\n",
              "      <td>44.170466</td>\n",
              "    </tr>\n",
              "  </tbody>\n",
              "</table>\n",
              "</div>"
            ],
            "text/plain": [
              "                          Variable  Coefficient\n",
              "11                  rt_Shared room   -89.090227\n",
              "10                 rt_Private room   -65.644241\n",
              "2                reviews_per_month    -1.616417\n",
              "0                   minimum_nights    -0.809520\n",
              "1                number_of_reviews    -0.009088\n",
              "4                 availability_365     0.046786\n",
              "3   calculated_host_listings_count     0.142435\n",
              "5                      name_length     0.198697\n",
              "9                 ng_Staten Island     0.205908\n",
              "8                        ng_Queens     9.690562\n",
              "6                      ng_Brooklyn    19.804003\n",
              "7                     ng_Manhattan    44.170466"
            ]
          },
          "metadata": {
            "tags": []
          },
          "execution_count": 19
        }
      ]
    },
    {
      "cell_type": "code",
      "metadata": {
        "colab": {
          "base_uri": "https://localhost:8080/"
        },
        "id": "y1-Qr-ZvBtWN",
        "outputId": "8e3685be-f58f-415e-e11b-6b906136fe3d"
      },
      "source": [
        "# Calculate RMSE\n",
        "y_pred1 = reg1.predict(x_test1)\n",
        "rmse1 = np.sqrt(metrics.mean_squared_error(y_test1, y_pred1))\n",
        "rmse1"
      ],
      "execution_count": 20,
      "outputs": [
        {
          "output_type": "execute_result",
          "data": {
            "text/plain": [
              "37.68798547656789"
            ]
          },
          "metadata": {
            "tags": []
          },
          "execution_count": 20
        }
      ]
    },
    {
      "cell_type": "code",
      "metadata": {
        "id": "ggJhv7Jo_k2a"
      },
      "source": [
        "# We can see from coefficient dataframe that number_of_reviews and availability_365 has low impact we can drop them.\n",
        "# R-squared value from training model is low, since its a basic linear regression model, we can definitely try on other more complex model  as random forest regressor model as I did  in this repo's ml_script.py."
      ],
      "execution_count": 21,
      "outputs": []
    }
  ]
}